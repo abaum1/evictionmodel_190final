{
 "cells": [
  {
   "cell_type": "code",
   "execution_count": 201,
   "metadata": {},
   "outputs": [],
   "source": [
    "import pandas as pd\n",
    "import sklearn\n",
    "import numpy as np\n",
    "import matplotlib.pyplot as plt\n",
    "import seaborn as sns\n"
   ]
  },
  {
   "cell_type": "markdown",
   "metadata": {},
   "source": [
    "### Create Testing and Training Sets from Features Data\n"
   ]
  },
  {
   "cell_type": "code",
   "execution_count": 202,
   "metadata": {},
   "outputs": [],
   "source": [
    "from sklearn.model_selection import train_test_split\n",
    "features_df = pd.read_csv(\"data/features_with_shuttles.csv\").drop([\"Unnamed: 0\"], axis=1)\n",
    "features = ['Total Housing Units','Percent Asian', 'Percent White', 'Percent Black','Median Year Structure Built',\n",
    "           'Number Stops','Year', 'Percent Native', 'Median Year Moved In', 'Median rent burden', \"Percent with Bachelor's degree\",\n",
    "           'Neighbors Mean', \"Evictions per units\", \"geometry\"]\n",
    "\n",
    "features_df_keep = features_df.loc[:, features_df.columns.isin(features)]\n",
    "\n",
    "X = features_df_keep.loc[:, features_df_keep.columns != 'Evictions per units']\n",
    "y = features_df_keep.loc[:,'Evictions per units']\n",
    "X_train, X_test, y_train, y_test = train_test_split(X, y, test_size = 0.20)"
   ]
  },
  {
   "cell_type": "markdown",
   "metadata": {},
   "source": [
    "### Normalize features data\n"
   ]
  },
  {
   "cell_type": "code",
   "execution_count": 203,
   "metadata": {},
   "outputs": [],
   "source": [
    "def normalize_columns(data, mean_df, std_df):\n",
    "    '''\n",
    "    Input:\n",
    "      data (data frame): contains only numeric columns\n",
    "    Output:\n",
    "      data frame, the same data, except each column is standardized \n",
    "      to have 0-mean and unit variance\n",
    "    '''\n",
    "    normalized_data=(data-mean_df.mean())/std_df.std()\n",
    "\n",
    "    return normalized_data"
   ]
  },
  {
   "cell_type": "code",
   "execution_count": 204,
   "metadata": {},
   "outputs": [],
   "source": [
    "def unnormalize_columns(data, mean_df, std_df):\n",
    "    unnormalized_data=(data*std_df.std())+mean_df.mean()\n",
    "\n",
    "    return unnormalized_data"
   ]
  },
  {
   "cell_type": "code",
   "execution_count": 205,
   "metadata": {},
   "outputs": [],
   "source": [
    "normal_Xtrain = normalize_columns(X_train, X_train, X_train)\n",
    "normal_Ytrain = normalize_columns(y_train, y_train, y_train)"
   ]
  },
  {
   "cell_type": "markdown",
   "metadata": {},
   "source": [
    "### Use Lasso for feature selection"
   ]
  },
  {
   "cell_type": "code",
   "execution_count": 207,
   "metadata": {},
   "outputs": [
    {
     "data": {
      "text/plain": [
       "0.005000500051"
      ]
     },
     "execution_count": 207,
     "metadata": {},
     "output_type": "execute_result"
    }
   ],
   "source": [
    "from sklearn.linear_model import LassoCV\n",
    "\n",
    "cv_alphas = np.linspace(1e-12, 1, 10000)\n",
    "\n",
    "lasso = LassoCV(alphas=cv_alphas, normalize=False, max_iter=1e6).fit(normal_Xtrain, normal_Ytrain)\n",
    "lcv_alpha_normal = lasso.alpha_\n",
    "lcv_alpha_normal"
   ]
  },
  {
   "cell_type": "code",
   "execution_count": 208,
   "metadata": {},
   "outputs": [],
   "source": [
    "from sklearn.linear_model import Lasso\n",
    "lasso_fit = Lasso(alpha=lcv_alpha_normal).fit(normal_Xtrain, normal_Ytrain)"
   ]
  },
  {
   "cell_type": "code",
   "execution_count": 209,
   "metadata": {},
   "outputs": [
    {
     "data": {
      "text/plain": [
       "array([-0.23664113, -0.        , -0.10165984,  0.0412433 ,  0.10065606,\n",
       "        0.05264133, -0.28733179, -0.71893036, -0.61125467, -0.0088048 ,\n",
       "        0.13420336,  0.00928867, -0.05828287])"
      ]
     },
     "execution_count": 209,
     "metadata": {},
     "output_type": "execute_result"
    }
   ],
   "source": [
    "lcoefficients = lasso_fit.coef_\n",
    "lcoefficients"
   ]
  },
  {
   "cell_type": "code",
   "execution_count": 210,
   "metadata": {},
   "outputs": [
    {
     "data": {
      "text/plain": [
       "OrderedDict([('Percent White', -0.7189303563157957),\n",
       "             ('Percent Asian', -0.6112546665443359),\n",
       "             ('Percent Black', -0.28733178994713415),\n",
       "             ('Total Housing Units', -0.236641125923354),\n",
       "             ('Median Year Structure Built', -0.10165984216838043),\n",
       "             ('geometry', -0.05828286572852633),\n",
       "             ('Percent Native', -0.008804799697667497),\n",
       "             ('Year', -0.0),\n",
       "             ('Number Stops', 0.00928866910476871),\n",
       "             ('Median Year Moved In', 0.04124330041792479),\n",
       "             ('Median rent burden', 0.052641328912482285),\n",
       "             (\"Percent with Bachelor's degree\", 0.1006560599833953),\n",
       "             ('Neighbors Mean', 0.13420335853286483)])"
      ]
     },
     "execution_count": 210,
     "metadata": {},
     "output_type": "execute_result"
    }
   ],
   "source": [
    "from collections import OrderedDict\n",
    "lasso_coef_dict = OrderedDict()\n",
    "for coef, feature in zip(lasso_fit.coef_, normal_Xtrain.columns):\n",
    "    lasso_coef_dict[feature] = coef\n",
    "sorted_coefs_lasso = OrderedDict(sorted(lasso_coef_dict.items(), key=lambda t: t[1]))\n",
    "sorted_coefs_lasso"
   ]
  },
  {
   "cell_type": "code",
   "execution_count": 211,
   "metadata": {
    "scrolled": true
   },
   "outputs": [
    {
     "data": {
      "image/png": "[encoded data removed]",
      "text/plain": [
       "<Figure size 720x360 with 1 Axes>"
      ]
     },
     "metadata": {
      "needs_background": "light"
     },
     "output_type": "display_data"
    }
   ],
   "source": [
    "plt.figure(figsize=(10,5))\n",
    "plt.bar(sorted_coefs_lasso.keys(), sorted_coefs_lasso.values())\n",
    "\n",
    "plt.xticks(list(sorted_coefs_lasso.keys()), rotation='vertical', fontsize=10)\n",
    "\n",
    "\n",
    "plt.show()"
   ]
  },
  {
   "cell_type": "code",
   "execution_count": 212,
   "metadata": {},
   "outputs": [],
   "source": [
    "#split the new features dataframe without the features lasso removed into train test \n",
    "selected_features = features_df_keep.loc[:, ~(features_df_keep.columns.isin(['Percent Native', 'Year']))]\n",
    "X_l = selected_features.loc[:, selected_features.columns != 'Evictions per units']\n",
    "y_l = selected_features.loc[:,'Evictions per units']\n",
    "X_ltrain, X_ltest, y_ltrain, y_ltest = train_test_split(X, y, test_size = 0.20)\n"
   ]
  },
  {
   "cell_type": "code",
   "execution_count": 213,
   "metadata": {},
   "outputs": [],
   "source": [
    "#normalize the new training data \n",
    "normal_X_ltrain = normalize_columns(X_ltrain, X_ltrain, X_ltrain)\n",
    "normal_y_ltrain = normalize_columns(y_ltrain, y_ltrain, y_ltrain)"
   ]
  },
  {
   "cell_type": "code",
   "execution_count": 214,
   "metadata": {},
   "outputs": [
    {
     "name": "stdout",
     "output_type": "stream",
     "text": [
      "38\n"
     ]
    }
   ],
   "source": [
    "from sklearn.model_selection import GridSearchCV\n",
    "from sklearn.neighbors import KNeighborsRegressor\n",
    "n_dict = {\"n_neighbors\": [34, 36, 38, 40, 42, 44, 46, 48, 50]} \n",
    "\n",
    "gsearch = GridSearchCV(estimator=KNeighborsRegressor(), param_grid=n_dict, cv= 10)\n",
    "\n",
    "gsearch_search_fit = gsearch.fit(normal_X_ltrain, normal_y_ltrain)\n",
    "\n",
    "optimal_n_neighbors = gsearch_search_fit.best_params_['n_neighbors']\n",
    "print(optimal_n_neighbors)"
   ]
  },
  {
   "cell_type": "code",
   "execution_count": 215,
   "metadata": {},
   "outputs": [
    {
     "name": "stdout",
     "output_type": "stream",
     "text": [
      "mse: 5.742455081523797e-07\n",
      "mae: 0.00047793703875617525\n"
     ]
    }
   ],
   "source": [
    "from sklearn.metrics import mean_squared_error, mean_absolute_error\n",
    "\n",
    "kn_regressor = KNeighborsRegressor(n_neighbors=optimal_n_neighbors)\n",
    "kn_regressor_fit = kn_regressor.fit(normal_X_ltrain, normal_y_ltrain)\n",
    "normal_y_pred_train = kn_regressor.predict(normal_X_ltrain)\n",
    "\n",
    "y_pred_train = unnormalize_columns(normal_y_pred_train, y_ltrain, y_ltrain)\n",
    "\n",
    "\n",
    "train_mse = mean_squared_error(y_pred_train, y_ltrain)\n",
    "train_mae = mean_absolute_error(y_pred_train, y_ltrain)\n",
    "print('mse:', train_mse)\n",
    "print('mae:', train_mae)"
   ]
  },
  {
   "cell_type": "code",
   "execution_count": 216,
   "metadata": {},
   "outputs": [
    {
     "name": "stdout",
     "output_type": "stream",
     "text": [
      "mse: 4.414330464399029e-07\n",
      "mae: 0.00042898098649410594\n"
     ]
    }
   ],
   "source": [
    "normal_X_test = normalize_columns(X_ltest, X_ltrain, X_ltrain)\n",
    "normal_y_pred_test = kn_regressor.predict(normal_X_test)\n",
    "\n",
    "y_pred_test = unnormalize_columns(normal_y_pred_test, y_ltrain, y_ltrain)\n",
    "test_mse = mean_squared_error(y_pred_test, y_ltest)\n",
    "test_mae = mean_absolute_error(y_pred_test, y_ltest)\n",
    "print('mse:', test_mse)\n",
    "print('mae:', test_mae)"
   ]
  },
  {
   "cell_type": "markdown",
   "metadata": {},
   "source": [
    "## Random Forest Regressor"
   ]
  },
  {
   "cell_type": "code",
   "execution_count": 158,
   "metadata": {},
   "outputs": [
    {
     "name": "stdout",
     "output_type": "stream",
     "text": [
      "Fitting 10 folds for each of 288 candidates, totalling 2880 fits\n",
      "{'max_depth': 450, 'max_features': 'log2', 'min_samples_leaf': 2, 'min_samples_split': 4, 'n_estimators': 130}\n"
     ]
    },
    {
     "name": "stderr",
     "output_type": "stream",
     "text": [
      "[Parallel(n_jobs=1)]: Done 2880 out of 2880 | elapsed:  6.4min finished\n"
     ]
    }
   ],
   "source": [
    "param_dict2 = {\"n_estimators\": [30, 50, 100, 130],\n",
    "             \"max_depth\": [350, 400, 450, 500],\n",
    "             \"min_samples_split\": [4, 8, 12],\n",
    "             \"min_samples_leaf\": [2, 5],\n",
    "             \"max_features\": [\"auto\", \"log2\", None]}\n",
    "\n",
    "gsearch = GridSearchCV(estimator=RandomForestRegressor(), param_grid=param_dict2, cv=10, verbose=1)\n",
    "\n",
    "gsearch_search_fit = gsearch.fit(normal_X_ltrain, normal_y_ltrain)\n",
    "\n",
    "optimal_forest_params2 = gsearch_search_fit.best_params_\n",
    "print(optimal_forest_params2)"
   ]
  },
  {
   "cell_type": "code",
   "execution_count": 159,
   "metadata": {},
   "outputs": [
    {
     "name": "stdout",
     "output_type": "stream",
     "text": [
      "{'max_depth': 450, 'max_features': 'log2', 'min_samples_leaf': 2, 'min_samples_split': 4, 'n_estimators': 130}\n"
     ]
    }
   ],
   "source": [
    "print(optimal_forest_params2)"
   ]
  },
  {
   "cell_type": "code",
   "execution_count": 160,
   "metadata": {},
   "outputs": [
    {
     "name": "stdout",
     "output_type": "stream",
     "text": [
      "Train Score:  0.7337062285291995\n"
     ]
    }
   ],
   "source": [
    "from sklearn.ensemble import RandomForestRegressor\n",
    "rf_tree = RandomForestRegressor(max_depth= optimal_forest_params2['max_depth'], max_features= optimal_forest_params2['max_features'], \n",
    "                                min_samples_leaf= optimal_forest_params2['min_samples_leaf'], min_samples_split= optimal_forest_params2['min_samples_split'], \n",
    "                                 n_estimators= optimal_forest_params2['n_estimators'])\n",
    "rf_tree_fit = rf_tree.fit(X_ltrain, y_ltrain)\n",
    "\n",
    "rf_train_score = rf_tree.score(X_ltrain, y_ltrain)\n",
    "\n",
    "print('Train Score: ', rf_train_score)\n"
   ]
  },
  {
   "cell_type": "markdown",
   "metadata": {},
   "source": [
    "## Ridge Regression Model"
   ]
  },
  {
   "cell_type": "code",
   "execution_count": 217,
   "metadata": {},
   "outputs": [
    {
     "name": "stdout",
     "output_type": "stream",
     "text": [
      "normalized alpha 2.5026\n",
      "training mse 5.28438767374638e-07\n",
      "test mse 4.240242388622868e-07\n"
     ]
    }
   ],
   "source": [
    "from sklearn.linear_model import RidgeCV, ridge\n",
    "cv_alphas = np.linspace(0.0001, 100, 1000) #consider changing these\n",
    "\n",
    "ridgeCV = RidgeCV(cv_alphas, normalize=False, scoring='neg_mean_squared_error').fit(normal_X_ltrain, normal_y_ltrain)\n",
    "rcv_alpha = ridgeCV.alpha_\n",
    "\n",
    "ridge_alpha = ridge.Ridge(alpha=rcv_alpha).fit(normal_X_ltrain, normal_y_ltrain)\n",
    "\n",
    "\n",
    "y_pred_normal_train = ridge_alpha.predict(normal_X_ltrain)\n",
    "y_pred_train = unnormalize_columns(y_pred_normal_train, y_ltrain, y_ltrain)\n",
    "\n",
    "train_mse = mean_squared_error(y_pred_train, y_ltrain) #unstandardized\n",
    "\n",
    "#test error\n",
    "normal_X_ltest = normalize_columns(X_ltest, X_ltrain, X_ltrain)\n",
    "y_pred_normal_test = ridge_alpha.predict(normal_X_ltest)\n",
    "y_pred_test = unnormalize_columns(y_pred_normal_test, y_ltrain, y_ltrain)\n",
    "\n",
    "test_mse = mean_squared_error(y_pred_test, y_ltest) #unstandardized\n",
    "\n",
    "                                     \n",
    "print(\"normalized alpha\", rcv_alpha)\n",
    "print(\"training mse\", train_mse)\n",
    "print(\"test mse\", test_mse)"
   ]
  },
  {
   "cell_type": "code",
   "execution_count": null,
   "metadata": {},
   "outputs": [],
   "source": []
  }
 ],
 "metadata": {
  "kernelspec": {
   "display_name": "Python 3",
   "language": "python",
   "name": "python3"
  },
  "language_info": {
   "codemirror_mode": {
    "name": "ipython",
    "version": 3
   },
   "file_extension": ".py",
   "mimetype": "text/x-python",
   "name": "python",
   "nbconvert_exporter": "python",
   "pygments_lexer": "ipython3",
   "version": "3.7.0"
  }
 },
 "nbformat": 4,
 "nbformat_minor": 2
}
